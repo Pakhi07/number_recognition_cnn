{
  "nbformat": 4,
  "nbformat_minor": 0,
  "metadata": {
    "colab": {
      "provenance": []
    },
    "kernelspec": {
      "name": "python3",
      "display_name": "Python 3"
    },
    "language_info": {
      "name": "python"
    }
  },
  "cells": [
    {
      "cell_type": "code",
      "execution_count": null,
      "metadata": {
        "id": "Hy_1lXVjG0xo",
        "colab": {
          "base_uri": "https://localhost:8080/"
        },
        "outputId": "274561b2-cf4f-4087-f879-dd34285f8690"
      },
      "outputs": [
        {
          "output_type": "stream",
          "name": "stdout",
          "text": [
            "Downloading data from https://storage.googleapis.com/tensorflow/tf-keras-datasets/mnist.npz\n",
            "11490434/11490434 [==============================] - 0s 0us/step\n"
          ]
        }
      ],
      "source": [
        "import keras\n",
        "from keras.datasets import mnist\n",
        "from keras.models import Sequential\n",
        "from keras.layers import Dense, Flatten\n",
        "from keras.layers import Dropout\n",
        "from keras.layers import Flatten\n",
        "from keras.layers import Conv2D\n",
        "from keras.layers import MaxPooling2D\n",
        "from keras import backend as K\n",
        "#  to split the data of training and testing sets\n",
        "(x_train, y_train), (x_test, y_test) = mnist.load_data()\n",
        "\n"
      ]
    },
    {
      "cell_type": "code",
      "source": [
        "x_train = x_train.reshape(x_train.shape[0], 28, 28, 1)\n",
        "x_test = x_test.reshape(x_test.shape[0], 28, 28, 1)\n",
        "input_shape = (28, 28, 1)\n",
        "num_classes = 10\n",
        "\n",
        "# conversion of class vectors to matrices of  binary class \n",
        "y_train = keras.utils.to_categorical(y_train, num_classes)\n",
        "y_test = keras.utils.to_categorical(y_test, num_classes)\n",
        "x_train = x_train.astype('float32')\n",
        "x_test = x_test.astype('float32')\n",
        "x_train /= 255\n",
        "x_test /= 255"
      ],
      "metadata": {
        "id": "Y-RDJsGal_ln"
      },
      "execution_count": null,
      "outputs": []
    },
    {
      "cell_type": "code",
      "source": [
        "batch_size = 128\n",
        "num_classes = 10\n",
        "epochs = 10\n",
        "model = Sequential()\n",
        "model.add(Conv2D(32, kernel_size=(3, 3),activation='relu',input_shape=input_shape))\n",
        "model.add(Conv2D(64, (3, 3), activation='relu'))\n",
        "model.add(MaxPooling2D(pool_size=(2, 2)))\n",
        "model.add(Dropout(0.25))\n",
        "model.add(Flatten())\n",
        "model.add(Dense(256, activation='relu'))\n",
        "model.add(Dropout(0.5))\n",
        "model.add(Dense(num_classes, activation='softmax'))\n",
        "model.compile(loss=keras.losses.categorical_crossentropy,optimizer=keras.optimizers.Adadelta(),metrics=['accuracy'])"
      ],
      "metadata": {
        "id": "Mep-WB6kmUkM"
      },
      "execution_count": null,
      "outputs": []
    },
    {
      "cell_type": "code",
      "source": [
        "hist = model.fit(x_train, y_train,batch_size=batch_size,epochs=epochs,verbose=1,validation_data=(x_test, y_test))\n",
        "print(\"The model has successfully trained\")\n",
        "model.save('mnist.h5')\n",
        "print(\"Saving the bot as mnist.h5\")"
      ],
      "metadata": {
        "colab": {
          "base_uri": "https://localhost:8080/"
        },
        "id": "FabsD4uh21Wm",
        "outputId": "08644f71-03ea-4273-e97f-8f3de3f9bcf3"
      },
      "execution_count": null,
      "outputs": [
        {
          "output_type": "stream",
          "name": "stdout",
          "text": [
            "Epoch 1/10\n",
            "469/469 [==============================] - 204s 432ms/step - loss: 2.2799 - accuracy: 0.1496 - val_loss: 2.2354 - val_accuracy: 0.4290\n",
            "Epoch 2/10\n",
            "469/469 [==============================] - 206s 439ms/step - loss: 2.2087 - accuracy: 0.2966 - val_loss: 2.1474 - val_accuracy: 0.5734\n",
            "Epoch 3/10\n",
            "469/469 [==============================] - 202s 430ms/step - loss: 2.1142 - accuracy: 0.4258 - val_loss: 2.0262 - val_accuracy: 0.6410\n",
            "Epoch 4/10\n",
            "469/469 [==============================] - 200s 426ms/step - loss: 1.9849 - accuracy: 0.5113 - val_loss: 1.8584 - val_accuracy: 0.6902\n",
            "Epoch 5/10\n",
            "469/469 [==============================] - 203s 433ms/step - loss: 1.8078 - accuracy: 0.5768 - val_loss: 1.6399 - val_accuracy: 0.7295\n",
            "Epoch 6/10\n",
            "469/469 [==============================] - 206s 439ms/step - loss: 1.5985 - accuracy: 0.6184 - val_loss: 1.3918 - val_accuracy: 0.7620\n",
            "Epoch 7/10\n",
            "469/469 [==============================] - 200s 427ms/step - loss: 1.3852 - accuracy: 0.6539 - val_loss: 1.1569 - val_accuracy: 0.7853\n",
            "Epoch 8/10\n",
            "469/469 [==============================] - 207s 441ms/step - loss: 1.2045 - accuracy: 0.6816 - val_loss: 0.9682 - val_accuracy: 0.8057\n",
            "Epoch 9/10\n",
            "469/469 [==============================] - 201s 429ms/step - loss: 1.0598 - accuracy: 0.7074 - val_loss: 0.8295 - val_accuracy: 0.8220\n",
            "Epoch 10/10\n",
            "469/469 [==============================] - 207s 442ms/step - loss: 0.9559 - accuracy: 0.7253 - val_loss: 0.7304 - val_accuracy: 0.8333\n",
            "The model has successfully trained\n",
            "Saving the bot as mnist.h5\n"
          ]
        }
      ]
    },
    {
      "cell_type": "code",
      "source": [
        "score = model.evaluate(x_test, y_test, verbose=0)\n",
        "print('Test loss:', score[0])\n",
        "print('Test accuracy:', score[1])\n"
      ],
      "metadata": {
        "colab": {
          "base_uri": "https://localhost:8080/"
        },
        "id": "rikJnADsuuH7",
        "outputId": "9c6e0920-5400-4955-fd49-4e515e545e58"
      },
      "execution_count": null,
      "outputs": [
        {
          "output_type": "stream",
          "name": "stdout",
          "text": [
            "Test loss: 0.7303749918937683\n",
            "Test accuracy: 0.833299994468689\n"
          ]
        }
      ]
    }
  ]
}